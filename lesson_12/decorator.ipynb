{
 "cells": [
  {
   "cell_type": "markdown",
   "metadata": {
    "colab": {},
    "colab_type": "code",
    "id": "ontn7hsJJDyd"
   },
   "source": [
    "### Local область видимости"
   ]
  },
  {
   "cell_type": "code",
   "execution_count": 2,
   "metadata": {
    "colab": {
     "base_uri": "https://localhost:8080/",
     "height": 207
    },
    "colab_type": "code",
    "executionInfo": {
     "elapsed": 809,
     "status": "error",
     "timestamp": 1555402676107,
     "user": {
      "displayName": "Dmitry Fedorov",
      "photoUrl": "https://lh3.googleusercontent.com/--frHkPudnIc/AAAAAAAAAAI/AAAAAAAABy0/pj40lKOYt18/s64/photo.jpg",
      "userId": "08707113058904953159"
     },
     "user_tz": -180
    },
    "id": "pPBWgapJJD1C",
    "outputId": "bb636d6b-a17e-4804-fafb-1ff50daedbfd"
   },
   "outputs": [
    {
     "ename": "NameError",
     "evalue": "name 'x' is not defined",
     "output_type": "error",
     "traceback": [
      "\u001b[0;31m---------------------------------------------------------------------------\u001b[0m",
      "\u001b[0;31mNameError\u001b[0m                                 Traceback (most recent call last)",
      "\u001b[0;32m<ipython-input-2-b32165187678>\u001b[0m in \u001b[0;36m<module>\u001b[0;34m\u001b[0m\n\u001b[1;32m      5\u001b[0m \u001b[0madd_two\u001b[0m\u001b[0;34m(\u001b[0m\u001b[0;36m3\u001b[0m\u001b[0;34m)\u001b[0m\u001b[0;34m\u001b[0m\u001b[0;34m\u001b[0m\u001b[0m\n\u001b[1;32m      6\u001b[0m \u001b[0;34m\u001b[0m\u001b[0m\n\u001b[0;32m----> 7\u001b[0;31m \u001b[0mprint\u001b[0m\u001b[0;34m(\u001b[0m\u001b[0mx\u001b[0m\u001b[0;34m)\u001b[0m\u001b[0;34m\u001b[0m\u001b[0;34m\u001b[0m\u001b[0m\n\u001b[0m",
      "\u001b[0;31mNameError\u001b[0m: name 'x' is not defined"
     ]
    }
   ],
   "source": [
    "def add_two(a):\n",
    "  x = 2\n",
    "  return a + x\n",
    "\n",
    "add_two(3)\n",
    "\n",
    "print(x)"
   ]
  },
  {
   "cell_type": "markdown",
   "metadata": {
    "colab": {},
    "colab_type": "code",
    "id": "V2hVCkuwJD3v"
   },
   "source": [
    "### Enclosing область видимости"
   ]
  },
  {
   "cell_type": "code",
   "execution_count": 5,
   "metadata": {
    "colab": {},
    "colab_type": "code",
    "id": "dy44uXRLJD6g"
   },
   "outputs": [],
   "source": [
    "def add_four(a):\n",
    "  x = 2\n",
    "  def add_some():\n",
    "    print(\"x = \" + str(x))\n",
    "    return a + x\n",
    "  return add_some()"
   ]
  },
  {
   "cell_type": "code",
   "execution_count": null,
   "metadata": {
    "colab": {
     "base_uri": "https://localhost:8080/",
     "height": 53
    },
    "colab_type": "code",
    "executionInfo": {
     "elapsed": 658,
     "status": "ok",
     "timestamp": 1556476218687,
     "user": {
      "displayName": "Dmitry Fedorov",
      "photoUrl": "https://lh3.googleusercontent.com/--frHkPudnIc/AAAAAAAAAAI/AAAAAAAABy0/pj40lKOYt18/s64/photo.jpg",
      "userId": "08707113058904953159"
     },
     "user_tz": -180
    },
    "id": "M6R79z2rNf7p",
    "outputId": "a1dd36f4-3583-4b91-cbad-37ec0e6ef57f"
   },
   "outputs": [],
   "source": [
    "add_four(3)"
   ]
  },
  {
   "cell_type": "markdown",
   "metadata": {
    "colab": {},
    "colab_type": "code",
    "id": "AYm0_nYbPEK3"
   },
   "source": [
    "### Built-in область видимости"
   ]
  },
  {
   "cell_type": "markdown",
   "metadata": {
    "colab": {},
    "colab_type": "code",
    "id": "x9PSsXfEPENT"
   },
   "source": [
    "Уровень Python интерпретатора. В рамках этой области видимости находятся функции open, len и т.п., также туда входят исключения. Эти сущности доступны в любом модуле Python и не требуют предварительного импорта. Built-in – это максимально широкая область видимости."
   ]
  },
  {
   "cell_type": "markdown",
   "metadata": {
    "colab_type": "text",
    "id": "XQ_TuWdjJTIR"
   },
   "source": [
    "### **Замыкание (closure) в программировании** — это функция, в теле которой присутствуют ссылки на переменные, объявленные вне тела этой функции в окружающем коде и не являющиеся ее параметрами."
   ]
  },
  {
   "cell_type": "markdown",
   "metadata": {
    "colab_type": "text",
    "id": "W_-EQMxGQaHd"
   },
   "source": [
    "Как уже было сказано выше, каждый раз, когда мы вызываем функцию, у нее создаются локальные переменные (если они у нее есть), а после завершения – уничтожаются, при очередном вызове эта процедура повторяется. Можно ли сделать так, чтобы после завершения работы функции, часть локальных переменных не уничтожалась, а сохраняла свои значение до следующего запуска? Да, это можно сделать!\n",
    "\n",
    "Локальная переменная не будет уничтожена, если на нее где-то останется “живая” ссылка, после завершения работы функции. Эту ссылку может сохранять вложенная функция. Функции построенные по такому принципу могут использоваться для построения специализированных функций, т.е. являются фабриками функций. Далее будет рассмотрен вопрос создания и использования замыканий в Python, которые как раз и использую эту идею."
   ]
  },
  {
   "cell_type": "code",
   "execution_count": 5,
   "metadata": {
    "colab": {
     "base_uri": "https://localhost:8080/",
     "height": 35
    },
    "colab_type": "code",
    "executionInfo": {
     "elapsed": 597,
     "status": "ok",
     "timestamp": 1555403427603,
     "user": {
      "displayName": "Dmitry Fedorov",
      "photoUrl": "https://lh3.googleusercontent.com/--frHkPudnIc/AAAAAAAAAAI/AAAAAAAABy0/pj40lKOYt18/s64/photo.jpg",
      "userId": "08707113058904953159"
     },
     "user_tz": -180
    },
    "id": "QeGSqMZqPESI",
    "outputId": "df65c266-90a9-43a7-cdaa-611cc73aeb94"
   },
   "outputs": [
    {
     "data": {
      "text/plain": [
       "10"
      ]
     },
     "execution_count": 5,
     "metadata": {},
     "output_type": "execute_result"
    }
   ],
   "source": [
    "def mul(a):\n",
    "  def helper(b):\n",
    "    return a * b\n",
    "  return helper\n",
    "\n",
    "mul(5)(2)"
   ]
  },
  {
   "cell_type": "code",
   "execution_count": 6,
   "metadata": {
    "colab": {
     "base_uri": "https://localhost:8080/",
     "height": 53
    },
    "colab_type": "code",
    "executionInfo": {
     "elapsed": 776,
     "status": "ok",
     "timestamp": 1555403487176,
     "user": {
      "displayName": "Dmitry Fedorov",
      "photoUrl": "https://lh3.googleusercontent.com/--frHkPudnIc/AAAAAAAAAAI/AAAAAAAABy0/pj40lKOYt18/s64/photo.jpg",
      "userId": "08707113058904953159"
     },
     "user_tz": -180
    },
    "id": "zvmpZCawRUpb",
    "outputId": "c4b92eea-d207-43a4-a0d2-afdd633ac6fc"
   },
   "outputs": [
    {
     "name": "stdout",
     "output_type": "stream",
     "text": [
      "<function mul.<locals>.helper at 0x7f38980a1d08>\n",
      "10\n"
     ]
    }
   ],
   "source": [
    "new_mul5 = mul(5)\n",
    "print(new_mul5)\n",
    "print(new_mul5(2))"
   ]
  },
  {
   "cell_type": "code",
   "execution_count": 7,
   "metadata": {
    "colab": {
     "base_uri": "https://localhost:8080/",
     "height": 35
    },
    "colab_type": "code",
    "executionInfo": {
     "elapsed": 859,
     "status": "ok",
     "timestamp": 1556509361173,
     "user": {
      "displayName": "Dmitry Fedorov",
      "photoUrl": "https://lh3.googleusercontent.com/--frHkPudnIc/AAAAAAAAAAI/AAAAAAAABy0/pj40lKOYt18/s64/photo.jpg",
      "userId": "08707113058904953159"
     },
     "user_tz": -180
    },
    "id": "wGG8XFKiPEUs",
    "outputId": "67684df0-fab6-4ea0-ed89-810e04e0c8ee"
   },
   "outputs": [
    {
     "name": "stdout",
     "output_type": "stream",
     "text": [
      "19\n"
     ]
    }
   ],
   "source": [
    "def fun1(a):\n",
    "  x = a * 3\n",
    "  def fun2(b):    \n",
    "    return b + x\n",
    "  return fun2\n",
    "\n",
    "test_fun = fun1(4)\n",
    "print(test_fun(7))"
   ]
  },
  {
   "cell_type": "code",
   "execution_count": 8,
   "metadata": {
    "colab": {
     "base_uri": "https://localhost:8080/",
     "height": 35
    },
    "colab_type": "code",
    "executionInfo": {
     "elapsed": 678,
     "status": "ok",
     "timestamp": 1556509899006,
     "user": {
      "displayName": "Dmitry Fedorov",
      "photoUrl": "https://lh3.googleusercontent.com/--frHkPudnIc/AAAAAAAAAAI/AAAAAAAABy0/pj40lKOYt18/s64/photo.jpg",
      "userId": "08707113058904953159"
     },
     "user_tz": -180
    },
    "id": "-rCuqXM0OA4M",
    "outputId": "783428b2-b0e8-490c-de81-8f00ed0472ae"
   },
   "outputs": [
    {
     "name": "stdout",
     "output_type": "stream",
     "text": [
      "42\n"
     ]
    }
   ],
   "source": [
    "def func2():\n",
    "    def func1():\n",
    "        nonlocal a\n",
    "        a = 42\n",
    " \n",
    "    a = 29\n",
    "    func1()\n",
    " \n",
    "    print(a)\n",
    " \n",
    "func2() #На экране увидим не 29, а 42."
   ]
  },
  {
   "cell_type": "code",
   "execution_count": 9,
   "metadata": {
    "colab": {},
    "colab_type": "code",
    "id": "QUJ9v1BpZ4Jk"
   },
   "outputs": [],
   "source": [
    "def f(x):\n",
    "  return x"
   ]
  },
  {
   "cell_type": "code",
   "execution_count": 10,
   "metadata": {
    "colab": {},
    "colab_type": "code",
    "id": "W36alZQQaqIQ"
   },
   "outputs": [],
   "source": [
    "def g(fun, x):\n",
    "  return fun(x)"
   ]
  },
  {
   "cell_type": "code",
   "execution_count": 11,
   "metadata": {
    "colab": {
     "base_uri": "https://localhost:8080/",
     "height": 35
    },
    "colab_type": "code",
    "executionInfo": {
     "elapsed": 609,
     "status": "ok",
     "timestamp": 1555221446586,
     "user": {
      "displayName": "Dmitry Fedorov",
      "photoUrl": "https://lh3.googleusercontent.com/--frHkPudnIc/AAAAAAAAAAI/AAAAAAAABy0/pj40lKOYt18/s64/photo.jpg",
      "userId": "08707113058904953159"
     },
     "user_tz": -180
    },
    "id": "Who13aiPa3r4",
    "outputId": "11b1503d-7068-442a-f0e5-4ecf5e3c682d"
   },
   "outputs": [
    {
     "data": {
      "text/plain": [
       "6"
      ]
     },
     "execution_count": 11,
     "metadata": {},
     "output_type": "execute_result"
    }
   ],
   "source": [
    "g(f, 6)"
   ]
  },
  {
   "cell_type": "code",
   "execution_count": 12,
   "metadata": {
    "colab": {
     "base_uri": "https://localhost:8080/",
     "height": 35
    },
    "colab_type": "code",
    "executionInfo": {
     "elapsed": 663,
     "status": "ok",
     "timestamp": 1555221609993,
     "user": {
      "displayName": "Dmitry Fedorov",
      "photoUrl": "https://lh3.googleusercontent.com/--frHkPudnIc/AAAAAAAAAAI/AAAAAAAABy0/pj40lKOYt18/s64/photo.jpg",
      "userId": "08707113058904953159"
     },
     "user_tz": -180
    },
    "id": "5R08dQHEa5vt",
    "outputId": "40a20df0-6fad-4638-b0de-c6d167d88fb0"
   },
   "outputs": [
    {
     "data": {
      "text/plain": [
       "function"
      ]
     },
     "execution_count": 12,
     "metadata": {},
     "output_type": "execute_result"
    }
   ],
   "source": [
    "type(g)"
   ]
  },
  {
   "cell_type": "code",
   "execution_count": 13,
   "metadata": {
    "colab": {
     "base_uri": "https://localhost:8080/",
     "height": 35
    },
    "colab_type": "code",
    "executionInfo": {
     "elapsed": 622,
     "status": "ok",
     "timestamp": 1555221702735,
     "user": {
      "displayName": "Dmitry Fedorov",
      "photoUrl": "https://lh3.googleusercontent.com/--frHkPudnIc/AAAAAAAAAAI/AAAAAAAABy0/pj40lKOYt18/s64/photo.jpg",
      "userId": "08707113058904953159"
     },
     "user_tz": -180
    },
    "id": "IMP-845mbxMU",
    "outputId": "3c99e902-b5f8-43e2-8a8e-9a3ef851b42c"
   },
   "outputs": [
    {
     "data": {
      "text/plain": [
       "5"
      ]
     },
     "execution_count": 13,
     "metadata": {},
     "output_type": "execute_result"
    }
   ],
   "source": [
    "h = f\n",
    "h(5)"
   ]
  },
  {
   "cell_type": "code",
   "execution_count": 14,
   "metadata": {
    "colab": {},
    "colab_type": "code",
    "id": "SMikavf-b-Wm"
   },
   "outputs": [],
   "source": [
    "def wrapper_function():\n",
    "  def hello_world():\n",
    "    print('Hello world!')\n",
    "  hello_world()"
   ]
  },
  {
   "cell_type": "code",
   "execution_count": 15,
   "metadata": {
    "colab": {
     "base_uri": "https://localhost:8080/",
     "height": 35
    },
    "colab_type": "code",
    "executionInfo": {
     "elapsed": 738,
     "status": "ok",
     "timestamp": 1555221769565,
     "user": {
      "displayName": "Dmitry Fedorov",
      "photoUrl": "https://lh3.googleusercontent.com/--frHkPudnIc/AAAAAAAAAAI/AAAAAAAABy0/pj40lKOYt18/s64/photo.jpg",
      "userId": "08707113058904953159"
     },
     "user_tz": -180
    },
    "id": "ynboB596b6te",
    "outputId": "a718fc71-e031-4a37-8d6f-67784cad2646"
   },
   "outputs": [
    {
     "name": "stdout",
     "output_type": "stream",
     "text": [
      "Hello world!\n"
     ]
    }
   ],
   "source": [
    "wrapper_function()"
   ]
  },
  {
   "cell_type": "code",
   "execution_count": 16,
   "metadata": {
    "colab": {},
    "colab_type": "code",
    "id": "0eWsMjeRcPur"
   },
   "outputs": [],
   "source": [
    "def higher_order(func):\n",
    "  print('Получена функция {} в качестве аргумента'.format(func))\n",
    "  func()\n",
    "  return func"
   ]
  },
  {
   "cell_type": "code",
   "execution_count": 17,
   "metadata": {
    "colab": {
     "base_uri": "https://localhost:8080/",
     "height": 71
    },
    "colab_type": "code",
    "executionInfo": {
     "elapsed": 670,
     "status": "ok",
     "timestamp": 1555221867293,
     "user": {
      "displayName": "Dmitry Fedorov",
      "photoUrl": "https://lh3.googleusercontent.com/--frHkPudnIc/AAAAAAAAAAI/AAAAAAAABy0/pj40lKOYt18/s64/photo.jpg",
      "userId": "08707113058904953159"
     },
     "user_tz": -180
    },
    "id": "shK-gBM5ceaf",
    "outputId": "6f72f265-6d3c-458d-f484-832c4a0557f1"
   },
   "outputs": [
    {
     "name": "stdout",
     "output_type": "stream",
     "text": [
      "Получена функция <function wrapper_function at 0x7f3898059d08> в качестве аргумента\n",
      "Hello world!\n"
     ]
    },
    {
     "data": {
      "text/plain": [
       "<function __main__.wrapper_function()>"
      ]
     },
     "execution_count": 17,
     "metadata": {},
     "output_type": "execute_result"
    }
   ],
   "source": [
    "higher_order(wrapper_function)"
   ]
  },
  {
   "cell_type": "markdown",
   "metadata": {
    "colab": {},
    "colab_type": "code",
    "id": "Bx2DjHJYcqXU"
   },
   "source": [
    "### Декоратор — это функция, которая позволяет обернуть другую функцию для расширения её функциональности без непосредственного изменения её кода."
   ]
  },
  {
   "cell_type": "code",
   "execution_count": 18,
   "metadata": {},
   "outputs": [],
   "source": [
    "def hello_world():\n",
    "  print('Hello world!')"
   ]
  },
  {
   "cell_type": "code",
   "execution_count": 19,
   "metadata": {},
   "outputs": [
    {
     "name": "stdout",
     "output_type": "stream",
     "text": [
      "Hello world!\n"
     ]
    }
   ],
   "source": [
    "hello_world()"
   ]
  },
  {
   "cell_type": "code",
   "execution_count": 20,
   "metadata": {
    "colab": {},
    "colab_type": "code",
    "id": "DXN4laYnc2Mp"
   },
   "outputs": [],
   "source": [
    "def decorator_function(func):\n",
    "  def wrapper():\n",
    "    print('Функция-обёртка!')\n",
    "    print('Оборачиваемая функция: {}'.format(func))\n",
    "    print('Выполняем обёрнутую функцию...')\n",
    "    func()\n",
    "    print('Выходим из обёртки')\n",
    "  return wrapper"
   ]
  },
  {
   "cell_type": "code",
   "execution_count": 21,
   "metadata": {
    "colab": {},
    "colab_type": "code",
    "id": "Hj0d_eDWeCZQ"
   },
   "outputs": [],
   "source": [
    "hello_world = decorator_function(hello_world)"
   ]
  },
  {
   "cell_type": "code",
   "execution_count": 22,
   "metadata": {
    "colab": {
     "base_uri": "https://localhost:8080/",
     "height": 107
    },
    "colab_type": "code",
    "executionInfo": {
     "elapsed": 745,
     "status": "ok",
     "timestamp": 1556511323011,
     "user": {
      "displayName": "Dmitry Fedorov",
      "photoUrl": "https://lh3.googleusercontent.com/--frHkPudnIc/AAAAAAAAAAI/AAAAAAAABy0/pj40lKOYt18/s64/photo.jpg",
      "userId": "08707113058904953159"
     },
     "user_tz": -180
    },
    "id": "kPnZBzqId5x7",
    "outputId": "f7cdefe5-d6ce-4a4a-d24a-efed92317dc4"
   },
   "outputs": [
    {
     "name": "stdout",
     "output_type": "stream",
     "text": [
      "Функция-обёртка!\n",
      "Оборачиваемая функция: <function hello_world at 0x7f389804e8c8>\n",
      "Выполняем обёрнутую функцию...\n",
      "Hello world!\n",
      "Выходим из обёртки\n"
     ]
    }
   ],
   "source": [
    "hello_world()"
   ]
  },
  {
   "cell_type": "code",
   "execution_count": 23,
   "metadata": {
    "colab": {},
    "colab_type": "code",
    "id": "0-tqtnmQd2xG"
   },
   "outputs": [],
   "source": [
    "# синтаксический сахар:\n",
    "@decorator_function\n",
    "def hello_world():\n",
    "  print('Hello world!')"
   ]
  },
  {
   "cell_type": "markdown",
   "metadata": {},
   "source": [
    "Декоратор используется для измерения времени работы программы:"
   ]
  },
  {
   "cell_type": "code",
   "execution_count": 24,
   "metadata": {
    "colab": {
     "base_uri": "https://localhost:8080/",
     "height": 35
    },
    "colab_type": "code",
    "executionInfo": {
     "elapsed": 782,
     "status": "ok",
     "timestamp": 1555223450378,
     "user": {
      "displayName": "Dmitry Fedorov",
      "photoUrl": "https://lh3.googleusercontent.com/--frHkPudnIc/AAAAAAAAAAI/AAAAAAAABy0/pj40lKOYt18/s64/photo.jpg",
      "userId": "08707113058904953159"
     },
     "user_tz": -180
    },
    "id": "A3rSWRLZeaXD",
    "outputId": "3aa6e9f1-f6bc-43ee-a442-9be827c33798"
   },
   "outputs": [
    {
     "name": "stdout",
     "output_type": "stream",
     "text": [
      "[*] Время выполнения: 1.4242372512817383 секунд.\n"
     ]
    }
   ],
   "source": [
    "def benchmark(func):\n",
    "    import time\n",
    "    \n",
    "    def wrapper():\n",
    "        start = time.time()\n",
    "        func()\n",
    "        end = time.time()\n",
    "        print('[*] Время выполнения: {} секунд.'.format(end-start))\n",
    "    return wrapper\n",
    "\n",
    "@benchmark\n",
    "def fetch_webpage():\n",
    "    import requests\n",
    "    webpage = requests.get('https://google.com')\n",
    "\n",
    "fetch_webpage()"
   ]
  },
  {
   "cell_type": "code",
   "execution_count": 25,
   "metadata": {
    "colab": {
     "base_uri": "https://localhost:8080/",
     "height": 163
    },
    "colab_type": "code",
    "executionInfo": {
     "elapsed": 763,
     "status": "ok",
     "timestamp": 1555223839771,
     "user": {
      "displayName": "Dmitry Fedorov",
      "photoUrl": "https://lh3.googleusercontent.com/--frHkPudnIc/AAAAAAAAAAI/AAAAAAAABy0/pj40lKOYt18/s64/photo.jpg",
      "userId": "08707113058904953159"
     },
     "user_tz": -180
    },
    "id": "JgihKstTizq9",
    "outputId": "533b5153-3211-4ea4-f726-f8ca86014750"
   },
   "outputs": [
    {
     "name": "stdout",
     "output_type": "stream",
     "text": [
      "[*] Время выполнения: 0.22233104705810547 секунд.\n",
      "<!doctype html><html itemscope=\"\" itemtype=\"http://schema.org/WebPage\" lang=\"ru\"><head><meta content\n"
     ]
    }
   ],
   "source": [
    "def benchmark(func):\n",
    "    import time\n",
    "    \n",
    "    def wrapper(*args, **kwargs):\n",
    "        start = time.time()\n",
    "        return_value = func(*args, **kwargs)\n",
    "        end = time.time()\n",
    "        print('[*] Время выполнения: {} секунд.'.format(end-start))\n",
    "        return return_value\n",
    "    return wrapper\n",
    "\n",
    "@benchmark\n",
    "def fetch_webpage(url):\n",
    "    import requests\n",
    "    webpage = requests.get(url)\n",
    "    return webpage.text[:100]\n",
    "\n",
    "webpage = fetch_webpage('https://google.com')\n",
    "print(webpage)"
   ]
  },
  {
   "cell_type": "code",
   "execution_count": 26,
   "metadata": {
    "colab": {
     "base_uri": "https://localhost:8080/",
     "height": 163
    },
    "colab_type": "code",
    "executionInfo": {
     "elapsed": 1376,
     "status": "ok",
     "timestamp": 1555223862583,
     "user": {
      "displayName": "Dmitry Fedorov",
      "photoUrl": "https://lh3.googleusercontent.com/--frHkPudnIc/AAAAAAAAAAI/AAAAAAAABy0/pj40lKOYt18/s64/photo.jpg",
      "userId": "08707113058904953159"
     },
     "user_tz": -180
    },
    "id": "NBvdGLNvjwlB",
    "outputId": "ceb185c6-0624-4247-bf42-79df02649f3c"
   },
   "outputs": [
    {
     "name": "stdout",
     "output_type": "stream",
     "text": [
      "[*] Среднее время выполнения: 0.21821234226226807 секунд.\n",
      "<!doctype html><html itemscope=\"\" itemtype=\"http://schema.org/WebPage\" lang=\"ru\"><head><meta content\n"
     ]
    }
   ],
   "source": [
    "def benchmark(iters):\n",
    "    def actual_decorator(func):\n",
    "        import time\n",
    "        \n",
    "        def wrapper(*args, **kwargs):\n",
    "            total = 0\n",
    "            for i in range(iters):\n",
    "                start = time.time()\n",
    "                return_value = func(*args, **kwargs)\n",
    "                end = time.time()\n",
    "                total = total + (end-start)\n",
    "            print('[*] Среднее время выполнения: {} секунд.'.format(total/iters))\n",
    "            return return_value\n",
    "\n",
    "        return wrapper\n",
    "    return actual_decorator\n",
    "\n",
    "\n",
    "@benchmark(iters=10)\n",
    "def fetch_webpage(url):\n",
    "    import requests\n",
    "    webpage = requests.get(url)\n",
    "    return webpage.text[:100]\n",
    "\n",
    "webpage = fetch_webpage('https://google.com')\n",
    "print(webpage)"
   ]
  },
  {
   "cell_type": "markdown",
   "metadata": {
    "colab": {},
    "colab_type": "code",
    "id": "Xk2BVQ61kOVx"
   },
   "source": [
    "По теме: \n",
    "\n",
    "https://python-scripts.com/decorators\n",
    "    \n",
    "https://tproger.ru/translations/demystifying-decorators-in-python/amp/\n",
    "    \n",
    "https://www.youtube.com/watch?v=My2UpCaN7rE\n",
    "    \n",
    "https://devpractice.ru/closures-in-python/    "
   ]
  },
  {
   "cell_type": "code",
   "execution_count": null,
   "metadata": {},
   "outputs": [],
   "source": []
  }
 ],
 "metadata": {
  "colab": {
   "name": "декораторы.ipynb",
   "provenance": [],
   "version": "0.3.2"
  },
  "kernelspec": {
   "display_name": "Python 3",
   "language": "python",
   "name": "python3"
  },
  "language_info": {
   "codemirror_mode": {
    "name": "ipython",
    "version": 3
   },
   "file_extension": ".py",
   "mimetype": "text/x-python",
   "name": "python",
   "nbconvert_exporter": "python",
   "pygments_lexer": "ipython3",
   "version": "3.7.3"
  }
 },
 "nbformat": 4,
 "nbformat_minor": 2
}
