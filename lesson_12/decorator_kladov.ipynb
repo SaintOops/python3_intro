{
 "cells": [
  {
   "cell_type": "code",
   "execution_count": 5,
   "metadata": {},
   "outputs": [
    {
     "name": "stdout",
     "output_type": "stream",
     "text": [
      "max(-10, -1, -3) = ...\n",
      "max(-10, -1, -3) = 0\n"
     ]
    }
   ],
   "source": [
    "def max(*args):\n",
    "    \"\"\"Finds the largest argument.\"\"\"\n",
    "    print(f\"max{args} = ...\")\n",
    "    ret = 0\n",
    "    for x in args:\n",
    "        ret = ret if x < ret else x\n",
    "    print(f\"max{args} = {ret}\")\n",
    "    return ret\n",
    "\n",
    "def foo():\n",
    "    max(-10, -1, -3)\n",
    "\n",
    "foo()"
   ]
  },
  {
   "cell_type": "code",
   "execution_count": 7,
   "metadata": {},
   "outputs": [
    {
     "name": "stdout",
     "output_type": "stream",
     "text": [
      "max(-10, -1, -3) = ...\n",
      "max(-10, -1, -3) = 0\n"
     ]
    }
   ],
   "source": [
    "def trace(f):\n",
    "    def inner(*args, **kwargs):\n",
    "        call = \", \".join(\n",
    "            [str(a) for a in args] + [f\"{k}={v}\" for k, v in kwargs]\n",
    "        )\n",
    "        print(f\"{f.__name__}({call}) = ...\")\n",
    "        ret = f(*args, **kwargs)\n",
    "        print(f\"{f.__name__}({call}) = {ret}\")\n",
    "        return ret\n",
    "\n",
    "    return inner\n",
    "\n",
    "def max(*args):\n",
    "    \"\"\"Finds the largest argument.\"\"\"\n",
    "    ret = 0\n",
    "    for x in args:\n",
    "        ret = ret if x < ret else x\n",
    "    return ret\n",
    "\n",
    "max = trace(max)\n",
    "\n",
    "def foo():\n",
    "    max(-10, -1, -3)\n",
    "\n",
    "foo()"
   ]
  },
  {
   "cell_type": "code",
   "execution_count": 9,
   "metadata": {},
   "outputs": [
    {
     "name": "stdout",
     "output_type": "stream",
     "text": [
      "max(-10, -1, -3) = ...\n",
      "max(-10, -1, -3) = 0\n"
     ]
    }
   ],
   "source": [
    "def trace(f):\n",
    "    def inner(*args, **kwargs):\n",
    "        call = \", \".join(\n",
    "            [str(a) for a in args] + [f\"{k}={v}\" for k, v in kwargs]\n",
    "        )\n",
    "        print(f\"{f.__name__}({call}) = ...\")\n",
    "        ret = f(*args, **kwargs)\n",
    "        print(f\"{f.__name__}({call}) = {ret}\")\n",
    "        return ret\n",
    "\n",
    "    return inner\n",
    "\n",
    "@trace\n",
    "def max(*args):\n",
    "    \"\"\"Finds the largest argument.\"\"\"\n",
    "    ret = 0\n",
    "    for x in args:\n",
    "        ret = ret if x < ret else x\n",
    "    return ret\n",
    "\n",
    "def foo():\n",
    "    max(-10, -1, -3)\n",
    "\n",
    "foo()"
   ]
  },
  {
   "cell_type": "code",
   "execution_count": 14,
   "metadata": {},
   "outputs": [
    {
     "name": "stdout",
     "output_type": "stream",
     "text": [
      "max(-10, -1, -3) = ...\n",
      "max(-10, -1, -3) = 0\n"
     ]
    },
    {
     "data": {
      "text/plain": [
       "['__annotations__',\n",
       " '__call__',\n",
       " '__class__',\n",
       " '__closure__',\n",
       " '__code__',\n",
       " '__defaults__',\n",
       " '__delattr__',\n",
       " '__dict__',\n",
       " '__dir__',\n",
       " '__doc__',\n",
       " '__eq__',\n",
       " '__format__',\n",
       " '__ge__',\n",
       " '__get__',\n",
       " '__getattribute__',\n",
       " '__globals__',\n",
       " '__gt__',\n",
       " '__hash__',\n",
       " '__init__',\n",
       " '__init_subclass__',\n",
       " '__kwdefaults__',\n",
       " '__le__',\n",
       " '__lt__',\n",
       " '__module__',\n",
       " '__name__',\n",
       " '__ne__',\n",
       " '__new__',\n",
       " '__qualname__',\n",
       " '__reduce__',\n",
       " '__reduce_ex__',\n",
       " '__repr__',\n",
       " '__setattr__',\n",
       " '__sizeof__',\n",
       " '__str__',\n",
       " '__subclasshook__']"
      ]
     },
     "execution_count": 14,
     "metadata": {},
     "output_type": "execute_result"
    }
   ],
   "source": [
    "DEBUG = True\n",
    "\n",
    "def trace(f):\n",
    "    # decoration time\n",
    "    if not DEBUG:\n",
    "        return f\n",
    "\n",
    "    def inner(*args, **kwargs):\n",
    "        # call time\n",
    "        call = \", \".join(\n",
    "            [str(a) for a in args] + [f\"{k}={v}\" for k, v in kwargs]\n",
    "        )\n",
    "        print(f\"{f.__name__}({call}) = ...\")\n",
    "        ret = f(*args, **kwargs)\n",
    "        print(f\"{f.__name__}({call}) = {ret}\")\n",
    "        return ret\n",
    "\n",
    "    return inner\n",
    "\n",
    "@trace\n",
    "def max(*args):\n",
    "    \"\"\"Finds the largest argument.\"\"\"\n",
    "    ret = 0\n",
    "    for x in args:\n",
    "        ret = ret if x < ret else x\n",
    "    return ret\n",
    "\n",
    "def foo():\n",
    "    max(-10, -1, -3)\n",
    "\n",
    "foo()\n",
    "dir(foo)"
   ]
  },
  {
   "cell_type": "code",
   "execution_count": 13,
   "metadata": {},
   "outputs": [
    {
     "name": "stdout",
     "output_type": "stream",
     "text": [
      "max(-10, -1, -3) = ...\n",
      "max(-10, -1, -3) = 0\n"
     ]
    },
    {
     "data": {
      "text/plain": [
       "['__annotations__',\n",
       " '__call__',\n",
       " '__class__',\n",
       " '__closure__',\n",
       " '__code__',\n",
       " '__defaults__',\n",
       " '__delattr__',\n",
       " '__dict__',\n",
       " '__dir__',\n",
       " '__doc__',\n",
       " '__eq__',\n",
       " '__format__',\n",
       " '__ge__',\n",
       " '__get__',\n",
       " '__getattribute__',\n",
       " '__globals__',\n",
       " '__gt__',\n",
       " '__hash__',\n",
       " '__init__',\n",
       " '__init_subclass__',\n",
       " '__kwdefaults__',\n",
       " '__le__',\n",
       " '__lt__',\n",
       " '__module__',\n",
       " '__name__',\n",
       " '__ne__',\n",
       " '__new__',\n",
       " '__qualname__',\n",
       " '__reduce__',\n",
       " '__reduce_ex__',\n",
       " '__repr__',\n",
       " '__setattr__',\n",
       " '__sizeof__',\n",
       " '__str__',\n",
       " '__subclasshook__']"
      ]
     },
     "execution_count": 13,
     "metadata": {},
     "output_type": "execute_result"
    }
   ],
   "source": [
    "DEBUG = True\n",
    "\n",
    "def trace(f):\n",
    "    if not DEBUG:\n",
    "        return f\n",
    "\n",
    "    def inner(*args, **kwargs):\n",
    "        call = \", \".join(\n",
    "            [str(a) for a in args] + [f\"{k}={v}\" for k, v in kwargs]\n",
    "        )\n",
    "        print(f\"{f.__name__}({call}) = ...\")\n",
    "        ret = f(*args, **kwargs)\n",
    "        print(f\"{f.__name__}({call}) = {ret}\")\n",
    "        return ret\n",
    "\n",
    "    inner.__name__ = f.__name__\n",
    "    inner.__doc__ = f.__doc__\n",
    "    inner.__module__ = f.__module__\n",
    "\n",
    "    return inner\n",
    "\n",
    "@trace\n",
    "def max(*args):\n",
    "    \"\"\"Finds the largest argument.\"\"\"\n",
    "    ret = 0\n",
    "    for x in args:\n",
    "        ret = ret if x < ret else x\n",
    "    return ret\n",
    "\n",
    "def foo():\n",
    "    max(-10, -1, -3)\n",
    "\n",
    "foo()\n",
    "c"
   ]
  },
  {
   "cell_type": "code",
   "execution_count": 15,
   "metadata": {},
   "outputs": [
    {
     "name": "stdout",
     "output_type": "stream",
     "text": [
      "max(-10, -1, -3) = ...\n",
      "max(-10, -1, -3) = 0\n"
     ]
    }
   ],
   "source": [
    "DEBUG = True\n",
    "\n",
    "def update_wrapper(wrapped, wrapper):\n",
    "    for attr in [\"__name__\", \"__doc__\", \"__module__\"]:\n",
    "        setattr(wrapper, attr, getattr(wrapped, attr))\n",
    "    wrapper.__wrapped__ = wrapped\n",
    "\n",
    "def trace(f):\n",
    "    if not DEBUG:\n",
    "        return f\n",
    "\n",
    "    def inner(*args, **kwargs):\n",
    "        call = \", \".join(\n",
    "            [str(a) for a in args] + [f\"{k}={v}\" for k, v in kwargs]\n",
    "        )\n",
    "        print(f\"{f.__name__}({call}) = ...\")\n",
    "        ret = f(*args, **kwargs)\n",
    "        print(f\"{f.__name__}({call}) = {ret}\")\n",
    "        return ret\n",
    "\n",
    "    update_wrapper(f, inner)\n",
    "\n",
    "    return inner\n",
    "\n",
    "@trace\n",
    "def max(*args):\n",
    "    \"\"\"Finds the largest argument.\"\"\"\n",
    "    ret = 0\n",
    "    for x in args:\n",
    "        ret = ret if x < ret else x\n",
    "    return ret\n",
    "\n",
    "def foo():\n",
    "    max(-10, -1, -3)\n",
    "\n",
    "foo()"
   ]
  },
  {
   "cell_type": "code",
   "execution_count": null,
   "metadata": {},
   "outputs": [],
   "source": []
  }
 ],
 "metadata": {
  "kernelspec": {
   "display_name": "Python 3",
   "language": "python",
   "name": "python3"
  },
  "language_info": {
   "codemirror_mode": {
    "name": "ipython",
    "version": 3
   },
   "file_extension": ".py",
   "mimetype": "text/x-python",
   "name": "python",
   "nbconvert_exporter": "python",
   "pygments_lexer": "ipython3",
   "version": "3.7.3"
  }
 },
 "nbformat": 4,
 "nbformat_minor": 2
}
