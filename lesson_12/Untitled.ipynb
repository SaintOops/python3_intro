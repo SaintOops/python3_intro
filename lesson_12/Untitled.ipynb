{
 "cells": [
  {
   "cell_type": "code",
   "execution_count": null,
   "metadata": {},
   "outputs": [],
   "source": [
    "target = 92\n",
    "for item in items:\n",
    "    if item == target:\n",
    "        print(\"Found!\", item)\n",
    "        break\n",
    "else:\n",
    "    print(\"Not found\")"
   ]
  },
  {
   "cell_type": "code",
   "execution_count": 1,
   "metadata": {},
   "outputs": [],
   "source": [
    "def min(x, y):\n",
    "    return x if x < y else y"
   ]
  },
  {
   "cell_type": "code",
   "execution_count": 2,
   "metadata": {},
   "outputs": [
    {
     "name": "stdout",
     "output_type": "stream",
     "text": [
      "10\n",
      "inf\n",
      "1\n"
     ]
    }
   ],
   "source": [
    "def min(*args):\n",
    "    # type(args) => <class 'tuple'>\n",
    "    res = float('inf')\n",
    "    for x in args:\n",
    "        res = x if x < res else res # Monoid!\n",
    "    return res\n",
    "\n",
    "print(min(92, 10, 62))\n",
    "print(min())\n",
    "xs = [1, 2, 3]\n",
    "print(min(*xs))"
   ]
  },
  {
   "cell_type": "code",
   "execution_count": 6,
   "metadata": {},
   "outputs": [
    {
     "name": "stdout",
     "output_type": "stream",
     "text": [
      "True\n"
     ]
    }
   ],
   "source": [
    "print('BA' > 'AF')"
   ]
  },
  {
   "cell_type": "code",
   "execution_count": 24,
   "metadata": {},
   "outputs": [],
   "source": [
    "def f(x, l=[]):\n",
    "   for i in range(x):\n",
    "       l.append(i * i)\n",
    "   return l"
   ]
  },
  {
   "cell_type": "code",
   "execution_count": 25,
   "metadata": {},
   "outputs": [
    {
     "data": {
      "text/plain": [
       "<code object f at 0x7f099447f4b0, file \"<ipython-input-24-ccadd0cd30aa>\", line 1>"
      ]
     },
     "execution_count": 25,
     "metadata": {},
     "output_type": "execute_result"
    }
   ],
   "source": [
    "f.__code__"
   ]
  },
  {
   "cell_type": "code",
   "execution_count": 26,
   "metadata": {},
   "outputs": [
    {
     "data": {
      "text/plain": [
       "b'x\\x1et\\x00|\\x00\\x83\\x01D\\x00]\\x12}\\x02|\\x01\\xa0\\x01|\\x02|\\x02\\x14\\x00\\xa1\\x01\\x01\\x00q\\nW\\x00|\\x01S\\x00'"
      ]
     },
     "execution_count": 26,
     "metadata": {},
     "output_type": "execute_result"
    }
   ],
   "source": [
    "f.__code__.co_code"
   ]
  },
  {
   "cell_type": "code",
   "execution_count": 27,
   "metadata": {},
   "outputs": [
    {
     "data": {
      "text/plain": [
       "(None,)"
      ]
     },
     "execution_count": 27,
     "metadata": {},
     "output_type": "execute_result"
    }
   ],
   "source": [
    "f.__code__.co_consts"
   ]
  },
  {
   "cell_type": "code",
   "execution_count": 28,
   "metadata": {},
   "outputs": [
    {
     "data": {
      "text/plain": [
       "('x', 'l', 'i')"
      ]
     },
     "execution_count": 28,
     "metadata": {},
     "output_type": "execute_result"
    }
   ],
   "source": [
    "f.__code__.co_varnames"
   ]
  },
  {
   "cell_type": "code",
   "execution_count": 8,
   "metadata": {},
   "outputs": [
    {
     "data": {
      "text/plain": [
       "'Привет, Гвидо!'"
      ]
     },
     "execution_count": 8,
     "metadata": {},
     "output_type": "execute_result"
    }
   ],
   "source": [
    "greet('Гвидо')"
   ]
  },
  {
   "cell_type": "code",
   "execution_count": 9,
   "metadata": {},
   "outputs": [
    {
     "data": {
      "text/plain": [
       "<code object greet at 0x7f099c323db0, file \"<ipython-input-7-6b96525beaac>\", line 1>"
      ]
     },
     "execution_count": 9,
     "metadata": {},
     "output_type": "execute_result"
    }
   ],
   "source": [
    "greet.__code__"
   ]
  },
  {
   "cell_type": "code",
   "execution_count": 10,
   "metadata": {},
   "outputs": [
    {
     "data": {
      "text/plain": [
       "b'd\\x01|\\x00\\x17\\x00d\\x02\\x17\\x00S\\x00'"
      ]
     },
     "execution_count": 10,
     "metadata": {},
     "output_type": "execute_result"
    }
   ],
   "source": [
    "greet.__code__.co_code"
   ]
  },
  {
   "cell_type": "code",
   "execution_count": 11,
   "metadata": {},
   "outputs": [
    {
     "data": {
      "text/plain": [
       "(None, 'Привет, ', '!')"
      ]
     },
     "execution_count": 11,
     "metadata": {},
     "output_type": "execute_result"
    }
   ],
   "source": [
    "greet.__code__."
   ]
  },
  {
   "cell_type": "code",
   "execution_count": 12,
   "metadata": {},
   "outputs": [
    {
     "data": {
      "text/plain": [
       "(None, 'Привет, ', '!')"
      ]
     },
     "execution_count": 12,
     "metadata": {},
     "output_type": "execute_result"
    }
   ],
   "source": [
    "greet.__code__.co_consts"
   ]
  },
  {
   "cell_type": "code",
   "execution_count": 13,
   "metadata": {},
   "outputs": [
    {
     "data": {
      "text/plain": [
       "('name',)"
      ]
     },
     "execution_count": 13,
     "metadata": {},
     "output_type": "execute_result"
    }
   ],
   "source": [
    "greet.__code__.co_varnames"
   ]
  },
  {
   "cell_type": "code",
   "execution_count": 4,
   "metadata": {},
   "outputs": [],
   "source": [
    "import subprocess\n",
    "result = subprocess.run('ls')"
   ]
  },
  {
   "cell_type": "code",
   "execution_count": 2,
   "metadata": {},
   "outputs": [
    {
     "data": {
      "text/plain": [
       "CompletedProcess(args='ls', returncode=0)"
      ]
     },
     "execution_count": 2,
     "metadata": {},
     "output_type": "execute_result"
    }
   ],
   "source": [
    "result"
   ]
  },
  {
   "cell_type": "code",
   "execution_count": 3,
   "metadata": {},
   "outputs": [
    {
     "name": "stdout",
     "output_type": "stream",
     "text": [
      "CompletedProcess(args='ls', returncode=0)\n"
     ]
    }
   ],
   "source": [
    "print(result)"
   ]
  },
  {
   "cell_type": "code",
   "execution_count": 5,
   "metadata": {},
   "outputs": [
    {
     "data": {
      "text/plain": [
       "0"
      ]
     },
     "execution_count": 5,
     "metadata": {},
     "output_type": "execute_result"
    }
   ],
   "source": [
    "result.returncode"
   ]
  },
  {
   "cell_type": "code",
   "execution_count": 6,
   "metadata": {},
   "outputs": [],
   "source": [
    "result = subprocess.run(['ls', '-ls'])"
   ]
  },
  {
   "cell_type": "code",
   "execution_count": 7,
   "metadata": {},
   "outputs": [],
   "source": [
    "result = subprocess.run('ls -ls *md', shell=True)"
   ]
  },
  {
   "cell_type": "code",
   "execution_count": 8,
   "metadata": {},
   "outputs": [],
   "source": [
    "result = subprocess.run(['ping', '-c', '3', '-n', '8.8.8.8'])"
   ]
  },
  {
   "cell_type": "code",
   "execution_count": 9,
   "metadata": {},
   "outputs": [],
   "source": [
    "result = subprocess.run(['ls', '-ls'], stdout=subprocess.PIPE)"
   ]
  },
  {
   "cell_type": "code",
   "execution_count": 10,
   "metadata": {},
   "outputs": [
    {
     "name": "stdout",
     "output_type": "stream",
     "text": [
      "b'\\xd0\\xb8\\xd1\\x82\\xd0\\xbe\\xd0\\xb3\\xd0\\xbe 148\\n 4 -rw-r--r-- 1 dmf dmf  2699 \\xd0\\xbc\\xd0\\xb0\\xd0\\xb9  6 08:56 about_timeit.ipynb\\n 4 -rw-r--r-- 1 dmf dmf   733 \\xd0\\xbc\\xd0\\xb0\\xd0\\xb9  1 10:13 client.py\\n28 -rw-r--r-- 1 dmf dmf 26546 \\xd0\\xbc\\xd0\\xb0\\xd0\\xb9 23 10:39 decorator.ipynb\\n 4 -rw-r--r-- 1 dmf dmf   768 \\xd0\\xbe\\xd0\\xba\\xd1\\x82  9  2018 encode.log\\n 4 -rw-r--r-- 1 dmf dmf  1019 \\xd0\\xbe\\xd0\\xba\\xd1\\x82  7  2018 file.html\\n 4 drwxr-xr-x 3 dmf dmf  4096 \\xd0\\xbc\\xd0\\xb0\\xd0\\xb9  1 10:13 flask\\n 4 -rw-r--r-- 1 dmf dmf   444 \\xd0\\xb4\\xd0\\xb5\\xd0\\xba 16  2018 histogram.py\\n 4 -rw-r--r-- 1 dmf dmf  2345 \\xd0\\xbc\\xd0\\xb0\\xd0\\xb9  5 16:59 http_get.ipynb\\n48 -rw-r--r-- 1 dmf dmf 47370 \\xd0\\xb0\\xd0\\xb2\\xd0\\xb3 31 10:26 iter_generator.ipynb\\n 4 drwxr-xr-x 2 dmf dmf  4096 \\xd0\\xb4\\xd0\\xb5\\xd0\\xba 30  2018 photo\\n 4 -rw-r--r-- 1 dmf dmf   620 \\xd0\\xbe\\xd0\\xba\\xd1\\x82 10  2018 photo.html\\n 4 -rw-r--r-- 1 dmf dmf   543 \\xd0\\xb4\\xd0\\xb5\\xd0\\xba 14  2018 photo_html_blank.py\\n 4 -rw-r--r-- 1 dmf dmf   338 \\xd1\\x8f\\xd0\\xbd\\xd0\\xb2 10  2019 read_romeo2.py\\n 4 -rw-r--r-- 1 dmf dmf   338 \\xd1\\x8f\\xd0\\xbd\\xd0\\xb2 10  2019 read_romeo.py\\n 4 -rw-r--r-- 1 dmf dmf  1402 \\xd0\\xbe\\xd0\\xba\\xd1\\x82  9  2018 regex.log\\n 4 -rw-r--r-- 1 dmf dmf  2069 \\xd0\\xbc\\xd0\\xb0\\xd0\\xb9  1 10:13 server.py\\n 4 -rw-r--r-- 1 dmf dmf   622 \\xd0\\xb4\\xd0\\xb5\\xd0\\xba 14  2018 tutchev_blank.py\\n 8 -rw-r--r-- 1 dmf dmf  7206 \\xd1\\x81\\xd0\\xb5\\xd0\\xbd  2 21:38 Untitled.ipynb\\n 4 -rwxr-xr-x 1 dmf dmf   887 \\xd0\\xb4\\xd0\\xb5\\xd0\\xba 15  2018 url.py\\n'\n"
     ]
    }
   ],
   "source": [
    "print(result.stdout)"
   ]
  },
  {
   "cell_type": "code",
   "execution_count": 11,
   "metadata": {},
   "outputs": [],
   "source": [
    "result = subprocess.run(['ls', '-ls'])"
   ]
  },
  {
   "cell_type": "code",
   "execution_count": 12,
   "metadata": {},
   "outputs": [
    {
     "name": "stdout",
     "output_type": "stream",
     "text": [
      "CompletedProcess(args=['ls', '-ls'], returncode=0)\n"
     ]
    }
   ],
   "source": [
    "print(result)"
   ]
  },
  {
   "cell_type": "code",
   "execution_count": null,
   "metadata": {},
   "outputs": [],
   "source": []
  }
 ],
 "metadata": {
  "kernelspec": {
   "display_name": "Python 3",
   "language": "python",
   "name": "python3"
  },
  "language_info": {
   "codemirror_mode": {
    "name": "ipython",
    "version": 3
   },
   "file_extension": ".py",
   "mimetype": "text/x-python",
   "name": "python",
   "nbconvert_exporter": "python",
   "pygments_lexer": "ipython3",
   "version": "3.7.3"
  }
 },
 "nbformat": 4,
 "nbformat_minor": 2
}
