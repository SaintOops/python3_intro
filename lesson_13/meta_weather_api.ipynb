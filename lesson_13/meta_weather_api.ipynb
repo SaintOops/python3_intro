{
 "cells": [
  {
   "cell_type": "markdown",
   "metadata": {},
   "source": [
    "[MetaWeather](https://www.metaweather.com) - это автоматический агрегатор данных о погоде, который принимает прогнозы погоды от различных прогнозистов и вычисляет наиболее вероятный результат.\n",
    "\n",
    "Идея состоит в том, что объединенные знания прогнозистов произведут лучшее предсказание.\n",
    "\n",
    "**История**\n",
    "\n",
    "Я (Джейсон) собирался на свадьбу друга, которая была частично на улице в климатически непредсказуемой Великобритании. При проверке прогноза погоды я задавался вопросом, должен ли я проверить другого прогнозиста, чтобы увидеть, что он предсказал - мыслительный процесс, который привел меня к проверке ряда сайтов. Пара плохо написанных PHP-скриптов, неуклюжая база данных MySQL и несколько часов спустя я перебирал данные о погоде с нескольких сайтов.\n",
    "\n",
    "Я приступил к созданию внешнего интерфейса и с тех пор собрал около миллиарда точек прогнозов и данных наблюдений по состоянию на начало 2017 года. \n",
    "\n",
    "Далее пример работы с API сайта:"
   ]
  },
  {
   "cell_type": "code",
   "execution_count": 1,
   "metadata": {},
   "outputs": [],
   "source": [
    "import requests\n",
    "import pandas as pd\n",
    "from pprint import pprint as pp"
   ]
  },
  {
   "cell_type": "markdown",
   "metadata": {},
   "source": [
    "Пример получения прогноза погоды в Санкт-Петербурге на 24.05.2019\n",
    "\n",
    "Для начала узнаем ID города:"
   ]
  },
  {
   "cell_type": "code",
   "execution_count": 2,
   "metadata": {},
   "outputs": [],
   "source": [
    "json_city = requests.get(\"https://www.metaweather.com/api/location/search/?query=St Petersburg\").json()"
   ]
  },
  {
   "cell_type": "code",
   "execution_count": 3,
   "metadata": {},
   "outputs": [
    {
     "name": "stdout",
     "output_type": "stream",
     "text": [
      "[{'latt_long': '59.932739,30.306721',\n",
      "  'location_type': 'City',\n",
      "  'title': 'St Petersburg',\n",
      "  'woeid': 2123260}]\n"
     ]
    }
   ],
   "source": [
    "pp(json_city)"
   ]
  },
  {
   "cell_type": "code",
   "execution_count": 4,
   "metadata": {},
   "outputs": [],
   "source": [
    "ident = json_city[0][\"woeid\"]"
   ]
  },
  {
   "cell_type": "code",
   "execution_count": 5,
   "metadata": {},
   "outputs": [
    {
     "name": "stdout",
     "output_type": "stream",
     "text": [
      "2123260\n"
     ]
    }
   ],
   "source": [
    "print(ident)"
   ]
  },
  {
   "cell_type": "code",
   "execution_count": 9,
   "metadata": {},
   "outputs": [
    {
     "name": "stdout",
     "output_type": "stream",
     "text": [
      "[{'air_pressure': 1017.28,\n",
      "  'applicable_date': '2019-05-24',\n",
      "  'created': '2019-05-24T20:56:07.965937Z',\n",
      "  'humidity': 56,\n",
      "  'id': 4857906170167296,\n",
      "  'max_temp': 22.995,\n",
      "  'min_temp': 16.395,\n",
      "  'predictability': 71,\n",
      "  'the_temp': 23.580000000000002,\n",
      "  'visibility': 14.706302692277102,\n",
      "  'weather_state_abbr': 'hc',\n",
      "  'weather_state_name': 'Heavy Cloud',\n",
      "  'wind_direction': 66.60601851382056,\n",
      "  'wind_direction_compass': 'ENE',\n",
      "  'wind_speed': 4.991136344547841},\n",
      " {'air_pressure': 1017.28,\n",
      "  'applicable_date': '2019-05-24',\n",
      "  'created': '2019-05-24T17:54:08.669412Z',\n",
      "  'humidity': 56,\n",
      "  'id': 4657133628948480,\n",
      "  'max_temp': 24.54,\n",
      "  'min_temp': 16.335,\n",
      "  'predictability': 71,\n",
      "  'the_temp': 23.580000000000002,\n",
      "  'visibility': 15.821663982343116,\n",
      "  'weather_state_abbr': 'hc',\n",
      "  'weather_state_name': 'Heavy Cloud',\n",
      "  'wind_direction': 70.43221126310647,\n",
      "  'wind_direction_compass': 'ENE',\n",
      "  'wind_speed': 4.751136344547841},\n",
      " {'air_pressure': 1016.755,\n",
      "  'applicable_date': '2019-05-24',\n",
      "  'created': '2019-05-24T14:52:08.263114Z',\n",
      "  'humidity': 63,\n",
      "  'id': 6489650145263616,\n",
      "  'max_temp': 19.310000000000002,\n",
      "  'min_temp': 14.2,\n",
      "  'predictability': 70,\n",
      "  'the_temp': 18.095,\n",
      "  'visibility': 15.239749860812854,\n",
      "  'weather_state_abbr': 'lc',\n",
      "  'weather_state_name': 'Light Cloud',\n",
      "  'wind_direction': 107.16534805064082,\n",
      "  'wind_direction_compass': 'ESE',\n",
      "  'wind_speed': 5.969851453421353}]\n"
     ]
    }
   ],
   "source": [
    "pp(requests.get(\"https://www.metaweather.com/api/location/\"+ str(ident)+\"/2019/5/24/\").json()[:3])"
   ]
  },
  {
   "cell_type": "markdown",
   "metadata": {},
   "source": [
    "Данные на сайте собираются из разных источников. Можно посмотреть такие параметры, как атмосферное давление, максимальная и минимальная температура, скорость ветра, влажность, видимость и вероятность (предсказуемость) данного прогнозам."
   ]
  },
  {
   "cell_type": "code",
   "execution_count": 7,
   "metadata": {},
   "outputs": [
    {
     "data": {
      "text/html": [
       "<div>\n",
       "<style scoped>\n",
       "    .dataframe tbody tr th:only-of-type {\n",
       "        vertical-align: middle;\n",
       "    }\n",
       "\n",
       "    .dataframe tbody tr th {\n",
       "        vertical-align: top;\n",
       "    }\n",
       "\n",
       "    .dataframe thead th {\n",
       "        text-align: right;\n",
       "    }\n",
       "</style>\n",
       "<table border=\"1\" class=\"dataframe\">\n",
       "  <thead>\n",
       "    <tr style=\"text-align: right;\">\n",
       "      <th></th>\n",
       "      <th>air_pressure</th>\n",
       "      <th>applicable_date</th>\n",
       "      <th>created</th>\n",
       "      <th>humidity</th>\n",
       "      <th>id</th>\n",
       "      <th>max_temp</th>\n",
       "      <th>min_temp</th>\n",
       "      <th>predictability</th>\n",
       "      <th>the_temp</th>\n",
       "      <th>visibility</th>\n",
       "      <th>weather_state_abbr</th>\n",
       "      <th>weather_state_name</th>\n",
       "      <th>wind_direction</th>\n",
       "      <th>wind_direction_compass</th>\n",
       "      <th>wind_speed</th>\n",
       "    </tr>\n",
       "  </thead>\n",
       "  <tbody>\n",
       "    <tr>\n",
       "      <th>0</th>\n",
       "      <td>1016.360</td>\n",
       "      <td>2019-05-23</td>\n",
       "      <td>2019-05-23T20:40:08.944337Z</td>\n",
       "      <td>73</td>\n",
       "      <td>5257692060844032</td>\n",
       "      <td>18.895</td>\n",
       "      <td>14.685</td>\n",
       "      <td>70</td>\n",
       "      <td>18.440</td>\n",
       "      <td>17.384102</td>\n",
       "      <td>lc</td>\n",
       "      <td>Light Cloud</td>\n",
       "      <td>56.404401</td>\n",
       "      <td>ENE</td>\n",
       "      <td>7.413951</td>\n",
       "    </tr>\n",
       "    <tr>\n",
       "      <th>1</th>\n",
       "      <td>1016.360</td>\n",
       "      <td>2019-05-23</td>\n",
       "      <td>2019-05-23T17:38:07.543843Z</td>\n",
       "      <td>73</td>\n",
       "      <td>6458589612867584</td>\n",
       "      <td>18.895</td>\n",
       "      <td>14.685</td>\n",
       "      <td>70</td>\n",
       "      <td>18.440</td>\n",
       "      <td>17.384102</td>\n",
       "      <td>lc</td>\n",
       "      <td>Light Cloud</td>\n",
       "      <td>56.404401</td>\n",
       "      <td>ENE</td>\n",
       "      <td>7.413951</td>\n",
       "    </tr>\n",
       "    <tr>\n",
       "      <th>2</th>\n",
       "      <td>1015.860</td>\n",
       "      <td>2019-05-23</td>\n",
       "      <td>2019-05-23T14:36:08.160047Z</td>\n",
       "      <td>70</td>\n",
       "      <td>4803018803380224</td>\n",
       "      <td>18.895</td>\n",
       "      <td>14.685</td>\n",
       "      <td>70</td>\n",
       "      <td>18.525</td>\n",
       "      <td>17.509619</td>\n",
       "      <td>lc</td>\n",
       "      <td>Light Cloud</td>\n",
       "      <td>64.176505</td>\n",
       "      <td>ENE</td>\n",
       "      <td>7.510884</td>\n",
       "    </tr>\n",
       "    <tr>\n",
       "      <th>3</th>\n",
       "      <td>1015.860</td>\n",
       "      <td>2019-05-23</td>\n",
       "      <td>2019-05-23T11:34:07.656530Z</td>\n",
       "      <td>70</td>\n",
       "      <td>5145778131566592</td>\n",
       "      <td>18.425</td>\n",
       "      <td>15.475</td>\n",
       "      <td>70</td>\n",
       "      <td>18.525</td>\n",
       "      <td>18.739934</td>\n",
       "      <td>lc</td>\n",
       "      <td>Light Cloud</td>\n",
       "      <td>65.249517</td>\n",
       "      <td>ENE</td>\n",
       "      <td>7.177551</td>\n",
       "    </tr>\n",
       "    <tr>\n",
       "      <th>4</th>\n",
       "      <td>1015.915</td>\n",
       "      <td>2019-05-23</td>\n",
       "      <td>2019-05-23T08:32:07.856820Z</td>\n",
       "      <td>67</td>\n",
       "      <td>5974897777967104</td>\n",
       "      <td>19.055</td>\n",
       "      <td>15.815</td>\n",
       "      <td>70</td>\n",
       "      <td>19.185</td>\n",
       "      <td>17.003512</td>\n",
       "      <td>lc</td>\n",
       "      <td>Light Cloud</td>\n",
       "      <td>64.957469</td>\n",
       "      <td>ENE</td>\n",
       "      <td>7.607540</td>\n",
       "    </tr>\n",
       "  </tbody>\n",
       "</table>\n",
       "</div>"
      ],
      "text/plain": [
       "   air_pressure applicable_date                      created  humidity  \\\n",
       "0      1016.360      2019-05-23  2019-05-23T20:40:08.944337Z        73   \n",
       "1      1016.360      2019-05-23  2019-05-23T17:38:07.543843Z        73   \n",
       "2      1015.860      2019-05-23  2019-05-23T14:36:08.160047Z        70   \n",
       "3      1015.860      2019-05-23  2019-05-23T11:34:07.656530Z        70   \n",
       "4      1015.915      2019-05-23  2019-05-23T08:32:07.856820Z        67   \n",
       "\n",
       "                 id  max_temp  min_temp  predictability  the_temp  visibility  \\\n",
       "0  5257692060844032    18.895    14.685              70    18.440   17.384102   \n",
       "1  6458589612867584    18.895    14.685              70    18.440   17.384102   \n",
       "2  4803018803380224    18.895    14.685              70    18.525   17.509619   \n",
       "3  5145778131566592    18.425    15.475              70    18.525   18.739934   \n",
       "4  5974897777967104    19.055    15.815              70    19.185   17.003512   \n",
       "\n",
       "  weather_state_abbr weather_state_name  wind_direction  \\\n",
       "0                 lc        Light Cloud       56.404401   \n",
       "1                 lc        Light Cloud       56.404401   \n",
       "2                 lc        Light Cloud       64.176505   \n",
       "3                 lc        Light Cloud       65.249517   \n",
       "4                 lc        Light Cloud       64.957469   \n",
       "\n",
       "  wind_direction_compass  wind_speed  \n",
       "0                    ENE    7.413951  \n",
       "1                    ENE    7.413951  \n",
       "2                    ENE    7.510884  \n",
       "3                    ENE    7.177551  \n",
       "4                    ENE    7.607540  "
      ]
     },
     "execution_count": 7,
     "metadata": {},
     "output_type": "execute_result"
    }
   ],
   "source": [
    "pd.DataFrame(requests.get(\"https://www.metaweather.com/api/location/\"+ str(ident)+\"/2019/5/23/\").json()).head()"
   ]
  },
  {
   "cell_type": "code",
   "execution_count": null,
   "metadata": {},
   "outputs": [],
   "source": []
  },
  {
   "cell_type": "code",
   "execution_count": null,
   "metadata": {},
   "outputs": [],
   "source": []
  }
 ],
 "metadata": {
  "kernelspec": {
   "display_name": "Python 3",
   "language": "python",
   "name": "python3"
  },
  "language_info": {
   "codemirror_mode": {
    "name": "ipython",
    "version": 3
   },
   "file_extension": ".py",
   "mimetype": "text/x-python",
   "name": "python",
   "nbconvert_exporter": "python",
   "pygments_lexer": "ipython3",
   "version": "3.7.2"
  }
 },
 "nbformat": 4,
 "nbformat_minor": 2
}
