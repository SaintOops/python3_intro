{
 "cells": [
  {
   "cell_type": "markdown",
   "metadata": {},
   "source": [
    "<img src=\"data/scipy_ecosystem.png\" align=\"left\" height=\"400\" width=\"400\" >"
   ]
  },
  {
   "cell_type": "markdown",
   "metadata": {},
   "source": [
    "matplotlib.pyplot представляет собой набор функций командного стиля, которые заставляют matplotlib работать как MATLAB. Каждая pyplot функция вносит некоторые изменения в фигуру: например, создает фигуру, создает область черчения на фигуре, строит некоторые линии в области черчения, украшает график метками и т.д. В matplotlib.pyplot различные состояния сохраняются при вызове функций, так что он отслеживает такие вещи, как текущая фигура и область построения, а функции построения графиков направлены на текущие оси (обратите внимание, что здесь и в большинстве мест в документации «оси» относятся к части осей фигуры, а не к строгой математический термин для более чем одной оси)."
   ]
  },
  {
   "cell_type": "code",
   "execution_count": 1,
   "metadata": {},
   "outputs": [],
   "source": [
    "# строит график внутри блокнота:"
   ]
  },
  {
   "cell_type": "code",
   "execution_count": 2,
   "metadata": {},
   "outputs": [],
   "source": [
    "%matplotlib inline "
   ]
  },
  {
   "cell_type": "code",
   "execution_count": 3,
   "metadata": {},
   "outputs": [
    {
     "data": {
      "image/png": "[encoded data removed]",
      "text/plain": [
       "<Figure size 432x288 with 1 Axes>"
      ]
     },
     "metadata": {
      "needs_background": "light"
     },
     "output_type": "display_data"
    }
   ],
   "source": [
    "import matplotlib.pyplot as plt\n",
    "plt.plot([1, 2, 3, 4]) # значения по Y\n",
    "plt.ylabel('some numbers')\n",
    "plt.show()"
   ]
  },
  {
   "cell_type": "markdown",
   "metadata": {},
   "source": [
    "Вы можете быть удивлены, почему ось X находится в диапазоне 0-3, а ось Y - 1-4. Если вы предоставляете plot() команде один список или массив, matplotlib предполагает, что это последовательность значений y, и автоматически генерирует для вас значения x. Поскольку диапазоны python начинаются с 0, вектор x по умолчанию имеет ту же длину, что и y, но начинается с 0. Следовательно, данные x имеют вид [0, 1, 2, 3]."
   ]
  },
  {
   "cell_type": "markdown",
   "metadata": {},
   "source": [
    "plot() является универсальной командой и принимает произвольное количество аргументов. Например, чтобы построить график x по сравнению с y, вы можете выполнить команду:"
   ]
  },
  {
   "cell_type": "raw",
   "metadata": {},
   "source": [
    "plt.plot([1, 2, 3, 4], [1, 4, 9, 16])"
   ]
  },
  {
   "cell_type": "markdown",
   "metadata": {},
   "source": [
    "Для каждой пары аргументов x, y существует необязательный третий аргумент, который представляет собой строку формата, которая указывает цвет и тип линии графика. Буквы и символы строки формата взяты из MATLAB, и вы объединяете строку цвета со строкой стиля линии. Строка формата по умолчанию - 'b-', которая является сплошной синей линией. Например, чтобы нарисовать вышесказанное с красными кружками, вы должны выполнить"
   ]
  },
  {
   "cell_type": "code",
   "execution_count": 4,
   "metadata": {},
   "outputs": [
    {
     "data": {
      "image/png": "[encoded data removed]",
      "text/plain": [
       "<Figure size 432x288 with 1 Axes>"
      ]
     },
     "metadata": {
      "needs_background": "light"
     },
     "output_type": "display_data"
    }
   ],
   "source": [
    "import matplotlib.pyplot as plt\n",
    "plt.plot([1, 2, 3, 4], [1, 4, 9, 16], 'ro')\n",
    "plt.axis([0, 6, 0, 20])\n",
    "plt.show()"
   ]
  },
  {
   "cell_type": "markdown",
   "metadata": {},
   "source": [
    "См. [документацию по plot()](https://matplotlib.org/api/pyplot_api.html#matplotlib.pyplot.plot) для получения полного списка стилей линий и форматных строк. Команда axis() в приведенном выше примере берет список и определяет область просмотра осей. [xmin, xmax, ymin, ymax]\n",
    "\n",
    "Если бы matplotlib ограничивался работой со списками, он был бы совершенно бесполезен для числовой обработки. Как правило, вы будете использовать **numpy** массивы."
   ]
  },
  {
   "cell_type": "code",
   "execution_count": 5,
   "metadata": {},
   "outputs": [],
   "source": [
    "import numpy as np"
   ]
  },
  {
   "cell_type": "code",
   "execution_count": 6,
   "metadata": {},
   "outputs": [
    {
     "data": {
      "text/plain": [
       "array([0, 1, 2])"
      ]
     },
     "execution_count": 6,
     "metadata": {},
     "output_type": "execute_result"
    }
   ],
   "source": [
    "np.arange(3)"
   ]
  },
  {
   "cell_type": "code",
   "execution_count": 7,
   "metadata": {},
   "outputs": [
    {
     "data": {
      "text/plain": [
       "array([0., 1., 2.])"
      ]
     },
     "execution_count": 7,
     "metadata": {},
     "output_type": "execute_result"
    }
   ],
   "source": [
    "np.arange(3.0)"
   ]
  },
  {
   "cell_type": "code",
   "execution_count": 8,
   "metadata": {},
   "outputs": [
    {
     "data": {
      "text/plain": [
       "array([3, 4, 5, 6])"
      ]
     },
     "execution_count": 8,
     "metadata": {},
     "output_type": "execute_result"
    }
   ],
   "source": [
    "np.arange(3, 7)"
   ]
  },
  {
   "cell_type": "code",
   "execution_count": 9,
   "metadata": {},
   "outputs": [
    {
     "data": {
      "text/plain": [
       "array([3, 5])"
      ]
     },
     "execution_count": 9,
     "metadata": {},
     "output_type": "execute_result"
    }
   ],
   "source": [
    "np.arange(3, 7, 2)"
   ]
  },
  {
   "cell_type": "code",
   "execution_count": 10,
   "metadata": {},
   "outputs": [
    {
     "data": {
      "text/plain": [
       "array([0. , 0.2, 0.4, 0.6, 0.8, 1. , 1.2, 1.4, 1.6, 1.8, 2. , 2.2, 2.4,\n",
       "       2.6, 2.8, 3. , 3.2, 3.4, 3.6, 3.8, 4. , 4.2, 4.4, 4.6, 4.8])"
      ]
     },
     "execution_count": 10,
     "metadata": {},
     "output_type": "execute_result"
    }
   ],
   "source": [
    "np.arange(0, 5, 0.2)"
   ]
  },
  {
   "cell_type": "markdown",
   "metadata": {},
   "source": [
    "В приведенном ниже примере показано построение нескольких строк с разными стилями формата в одной команде с использованием массивов."
   ]
  },
  {
   "cell_type": "code",
   "execution_count": 11,
   "metadata": {},
   "outputs": [
    {
     "data": {
      "image/png": "[encoded data removed]",
      "text/plain": [
       "<Figure size 432x288 with 1 Axes>"
      ]
     },
     "metadata": {
      "needs_background": "light"
     },
     "output_type": "display_data"
    }
   ],
   "source": [
    "import numpy as np\n",
    "import matplotlib.pyplot as plt\n",
    "\n",
    "# evenly sampled time at 200ms intervals\n",
    "t = np.arange(0., 5., 0.2)\n",
    "\n",
    "# red dashes, blue squares and green triangles\n",
    "plt.plot(t, t, 'r--', t, t**2, 'bs', t, t**3, 'g^')\n",
    "plt.show()"
   ]
  },
  {
   "cell_type": "markdown",
   "metadata": {},
   "source": [
    "[Далее на англ](https://matplotlib.org/users/pyplot_tutorial.html)"
   ]
  },
  {
   "cell_type": "code",
   "execution_count": 12,
   "metadata": {},
   "outputs": [
    {
     "data": {
      "image/png": "[encoded data removed]",
      "text/plain": [
       "<Figure size 432x288 with 1 Axes>"
      ]
     },
     "metadata": {
      "needs_background": "light"
     },
     "output_type": "display_data"
    }
   ],
   "source": [
    "import matplotlib.pyplot as plt\n",
    "import numpy as np\n",
    "\n",
    "x = np.linspace(-5, 2, 100)                     # равномерно распределенные числа от -5 до 2 сделать 100 точек \n",
    "y1 = x**3 + 5*x**2 + 10\n",
    "y2 = x\n",
    "y3 = np.cos(x)\n",
    "\n",
    "fig, ax = plt.subplots()                        # будет 1 график, на нем:\n",
    "ax.plot(x, y1, color=\"blue\", label=\"y1(x)\")     # функция y1(x), синий, надпись y(x)\n",
    "ax.plot(x, y2, color=\"red\", label=\"y2(x)\")      # функция y2(x), красный, надпись y'(x)\n",
    "ax.plot(x, y3, color=\"green\", label=\"y3(x)\")\n",
    "\n",
    "ax.set_xlabel(\"x\")                              # подпись у горизонтальной оси х\n",
    "ax.set_ylabel(\"y\")                              # подпись у вертикальной оси y\n",
    "ax.legend()                                     # показывать условные обозначения\n",
    "\n",
    "plt.show()                                      # показать рисунок\n",
    "fig.savefig('1.png')                            # сохранить график в файл с именем 1.png"
   ]
  },
  {
   "cell_type": "markdown",
   "metadata": {},
   "source": [
    "fig, ax - это описание рисунка (figure) и осей (axes).\n",
    "\n",
    "<img src=\"data/figure.png\" align=\"left\" height=\"400\" width=\"400\" >"
   ]
  },
  {
   "cell_type": "markdown",
   "metadata": {},
   "source": [
    "[Matplotlib: plotting](http://scipy-lectures.org/intro/matplotlib/index.html)\n",
    "\n",
    "[Документация на русском](https://github.com/whitehorn/Scientific_graphics_in_python/blob/master/P1%20Chapter%201%20Pyplot.ipynb)\n",
    "\n",
    "[Про графики на русском](http://acm.mipt.ru/twiki/bin/view/Cintro/PythonGraphs)\n",
    "\n",
    "[matplotlib-gallery](https://github.com/rasbt/matplotlib-gallery)"
   ]
  },
  {
   "cell_type": "code",
   "execution_count": null,
   "metadata": {},
   "outputs": [],
   "source": []
  }
 ],
 "metadata": {
  "kernelspec": {
   "display_name": "Python 3",
   "language": "python",
   "name": "python3"
  },
  "language_info": {
   "codemirror_mode": {
    "name": "ipython",
    "version": 3
   },
   "file_extension": ".py",
   "mimetype": "text/x-python",
   "name": "python",
   "nbconvert_exporter": "python",
   "pygments_lexer": "ipython3",
   "version": "3.7.1"
  }
 },
 "nbformat": 4,
 "nbformat_minor": 2
}
