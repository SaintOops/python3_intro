{
 "cells": [
  {
   "cell_type": "markdown",
   "metadata": {},
   "source": [
    "### Краткий вводный обзор Python-библиотек для data science. Руслан Сафин, Byndyusoft\n",
    "\n",
    "В своем докладе Руслан рассказал всем интересующимся с чего начать в огромном новом мире науки о данных. Постарался ответить на вопрос \"Что этот мир вообще из себя представляет?\". Показать, какими инструментами на Python можно воспользоваться для анализа данных, их визуализации и для машинного обучения.\n",
    "\n",
    "<a href=\"https://youtu.be/R4jnR-iJOJg\"><img src=\"data/video1.png\" align=\"left\" height=\"500\" width=\"500\" ></a>"
   ]
  },
  {
   "cell_type": "markdown",
   "metadata": {},
   "source": [
    "<a href=\"https://github.com/razonrus/mlcourse_open/tree/master/PythonMeetup\">Ноутбук с примерами кода</a>"
   ]
  },
  {
   "cell_type": "markdown",
   "metadata": {},
   "source": [
    "### Кластеризации поисковых запросов в iPython. Михаил Жуковец, Rambler-Co \n",
    "\n",
    "Кластеризация для выделения групп типовых поисковых запросов на примере реальных данных. Векторное представление слов. Настройка k-means и hierarchical clustering в iPython.\n",
    "\n",
    "<a href=\"https://youtu.be/LEmIus-M0mk\"><img src=\"data/video2.png\" align=\"left\" height=\"500\" width=\"500\" ></a>\n"
   ]
  },
  {
   "cell_type": "markdown",
   "metadata": {},
   "source": [
    "<a href=\"https://www.searchengines.ru/klasterizatsiya-zaprosov-v-ipython.html\">Статья с картинками, к сожалению, без тетрадки</a>"
   ]
  },
  {
   "cell_type": "code",
   "execution_count": null,
   "metadata": {},
   "outputs": [],
   "source": []
  }
 ],
 "metadata": {
  "kernelspec": {
   "display_name": "Python 3",
   "language": "python",
   "name": "python3"
  },
  "language_info": {
   "codemirror_mode": {
    "name": "ipython",
    "version": 3
   },
   "file_extension": ".py",
   "mimetype": "text/x-python",
   "name": "python",
   "nbconvert_exporter": "python",
   "pygments_lexer": "ipython3",
   "version": "3.7.2"
  }
 },
 "nbformat": 4,
 "nbformat_minor": 2
}
