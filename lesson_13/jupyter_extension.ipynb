{
 "cells": [
  {
   "cell_type": "raw",
   "metadata": {},
   "source": [
    "Некоторые полезные расширения jupyter:\n",
    "\n",
    "conda install -c conda-forge nodejs\n",
    "\n",
    "jupyter labextension install @jupyterlab/google-drive\n",
    "\n",
    "conda install -c conda-forge ipywidgets\n",
    "\n",
    "conda install -c conda-forge ipyleaflet\n",
    "\n",
    "conda install -c conda-forge ipympl\n",
    "conda install nodejs\n",
    "\n",
    "jupyter labextension install @jupyter-widgets/jupyterlab-manager\n",
    "jupyter labextension install jupyter-matplotlib\n",
    "\n",
    "jupyter labextension install @jupyterlab/git\n",
    "\n",
    "jupyter labextension install @jupyterlab/latex\n",
    "\n",
    "jupyter labextension install @mflevine/jupyterlab_html\n",
    "\n",
    "jupyter labextension install jupyterlab-python-bytecode\n",
    "\n",
    "jupyter labextension install jupyterlab_email\n",
    "\n",
    "jupyter labextension install jupyterlab-python-file\n",
    "\n",
    "# работает pip\n",
    "!pip install --upgrade pip\n",
    "!pip install nose2\n",
    "\n",
    "Обновление системы:\n",
    "$ conda update conda\n",
    "$ conda update anaconda-navigator\n",
    "$ conda update navigator-updater\n"
   ]
  },
  {
   "cell_type": "raw",
   "metadata": {},
   "source": []
  }
 ],
 "metadata": {
  "kernelspec": {
   "display_name": "Python 3",
   "language": "python",
   "name": "python3"
  },
  "language_info": {
   "codemirror_mode": {
    "name": "ipython",
    "version": 3
   },
   "file_extension": ".py",
   "mimetype": "text/x-python",
   "name": "python",
   "nbconvert_exporter": "python",
   "pygments_lexer": "ipython3",
   "version": "3.7.2"
  }
 },
 "nbformat": 4,
 "nbformat_minor": 2
}
