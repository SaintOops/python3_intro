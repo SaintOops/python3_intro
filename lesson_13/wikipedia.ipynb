{
 "cells": [
  {
   "cell_type": "code",
   "execution_count": 1,
   "metadata": {},
   "outputs": [
    {
     "name": "stdout",
     "output_type": "stream",
     "text": [
      "Collecting wikipedia\n",
      "  Downloading https://files.pythonhosted.org/packages/67/35/25e68fbc99e672127cc6fbb14b8ec1ba3dfef035bf1e4c90f78f24a80b7d/wikipedia-1.4.0.tar.gz\n",
      "Requirement already satisfied: beautifulsoup4 in /home/dmf/anaconda3/lib/python3.7/site-packages (from wikipedia) (4.6.3)\n",
      "Requirement already satisfied: requests<3.0.0,>=2.0.0 in /home/dmf/anaconda3/lib/python3.7/site-packages (from wikipedia) (2.19.1)\n",
      "Requirement already satisfied: certifi>=2017.4.17 in /home/dmf/anaconda3/lib/python3.7/site-packages (from requests<3.0.0,>=2.0.0->wikipedia) (2018.11.29)\n",
      "Requirement already satisfied: idna<2.8,>=2.5 in /home/dmf/anaconda3/lib/python3.7/site-packages (from requests<3.0.0,>=2.0.0->wikipedia) (2.7)\n",
      "Requirement already satisfied: urllib3<1.24,>=1.21.1 in /home/dmf/anaconda3/lib/python3.7/site-packages (from requests<3.0.0,>=2.0.0->wikipedia) (1.23)\n",
      "Requirement already satisfied: chardet<3.1.0,>=3.0.2 in /home/dmf/anaconda3/lib/python3.7/site-packages (from requests<3.0.0,>=2.0.0->wikipedia) (3.0.4)\n",
      "Building wheels for collected packages: wikipedia\n",
      "  Running setup.py bdist_wheel for wikipedia ... \u001b[?25ldone\n",
      "\u001b[?25h  Stored in directory: /home/dmf/.cache/pip/wheels/87/2a/18/4e471fd96d12114d16fe4a446d00c3b38fb9efcb744bd31f4a\n",
      "Successfully built wikipedia\n",
      "\u001b[31mtwisted 18.7.0 requires PyHamcrest>=1.9.0, which is not installed.\u001b[0m\n",
      "Installing collected packages: wikipedia\n",
      "Successfully installed wikipedia-1.4.0\n",
      "\u001b[33mYou are using pip version 10.0.1, however version 19.1.1 is available.\n",
      "You should consider upgrading via the 'pip install --upgrade pip' command.\u001b[0m\n"
     ]
    }
   ],
   "source": [
    "!pip install wikipedia"
   ]
  },
  {
   "cell_type": "code",
   "execution_count": 2,
   "metadata": {},
   "outputs": [],
   "source": [
    "import wikipedia"
   ]
  },
  {
   "cell_type": "code",
   "execution_count": 3,
   "metadata": {},
   "outputs": [],
   "source": [
    "wikipedia.set_lang('ru')"
   ]
  },
  {
   "cell_type": "code",
   "execution_count": 4,
   "metadata": {},
   "outputs": [
    {
     "data": {
      "text/plain": [
       "['Python',\n",
       " 'Colt Python',\n",
       " 'Python (значения)',\n",
       " 'Монти Пайтон',\n",
       " 'Стандартная библиотека Python',\n",
       " 'Mod python',\n",
       " 'Сетчатый питон',\n",
       " 'История языка программирования Python',\n",
       " 'Pip (менеджер пакетов)',\n",
       " 'Python Imaging Library']"
      ]
     },
     "execution_count": 4,
     "metadata": {},
     "output_type": "execute_result"
    }
   ],
   "source": [
    "wikipedia.search('Python')"
   ]
  },
  {
   "cell_type": "code",
   "execution_count": 5,
   "metadata": {},
   "outputs": [],
   "source": [
    "python = wikipedia.page('Python')"
   ]
  },
  {
   "cell_type": "code",
   "execution_count": 6,
   "metadata": {},
   "outputs": [
    {
     "data": {
      "text/plain": [
       "'https://ru.wikipedia.org/wiki/Python'"
      ]
     },
     "execution_count": 6,
     "metadata": {},
     "output_type": "execute_result"
    }
   ],
   "source": [
    "python.url"
   ]
  },
  {
   "cell_type": "code",
   "execution_count": 7,
   "metadata": {},
   "outputs": [
    {
     "data": {
      "text/plain": [
       "'Python (МФА: [ˈpʌɪθ(ə)n]; в русском языке распространено название пито́н) — высокоуровневый язык программирования общего назначения, ориентированный на повышение производительности разработчика и читаемости кода. Синтаксис ядра Python минималистичен. В то же время стандартная библиотека включает большой объём полезных функций.\\nPython поддерживает структурное, объектно-ориентированное, функциональное, императивное и аспектно-ориентированное программирование. Основные архитектурные черты — динамическая типизация, автоматическое управление памятью, полная интроспекция, механизм обработки исключений, поддержка многопоточных вычислений, высокоуровневые структуры данных. Поддерживается разбиение программ на модули, которые, в свою очередь, могут объединяться в пакеты.\\nЭталонной реализацией Python является интерпретатор CPython, поддерживающий большинство активно используемых платформ. Он распространяется под свободной лицензией Python Software Foundation License, позволяющей использовать его без ограничений в любых приложениях, включая проприетарные. Есть реализация интерпретатора для JVM с возможностью компиляции, CLR, LLVM, другие независимые реализации. Проект PyPy использует JIT-компиляцию, которая значительно увеличивает скорость выполнения Python-программ.\\nPython — активно развивающийся язык программирования, новые версии с добавлением/изменением языковых свойств выходят примерно раз в два с половиной года. Язык не подвергался официальной стандартизации, роль стандарта де-факто выполняет CPython, разрабатываемый под контролем автора языка.'"
      ]
     },
     "execution_count": 7,
     "metadata": {},
     "output_type": "execute_result"
    }
   ],
   "source": [
    "python.summary"
   ]
  },
  {
   "cell_type": "code",
   "execution_count": 8,
   "metadata": {},
   "outputs": [
    {
     "data": {
      "text/plain": [
       "['https://upload.wikimedia.org/wikipedia/commons/4/4a/Commons-logo.svg',\n",
       " 'https://upload.wikimedia.org/wikipedia/commons/4/48/Folder_Hexagonal_Icon.svg',\n",
       " 'https://upload.wikimedia.org/wikipedia/commons/e/e0/Green_star_boxed.svg',\n",
       " 'https://upload.wikimedia.org/wikipedia/commons/f/fd/Portal-puzzle.svg',\n",
       " 'https://upload.wikimedia.org/wikipedia/commons/d/d7/Python%27s_IDLE.png',\n",
       " 'https://upload.wikimedia.org/wikipedia/commons/1/10/Python_3._The_standard_type_hierarchy.png',\n",
       " 'https://upload.wikimedia.org/wikipedia/commons/6/68/Python_batteries_included.jpg',\n",
       " 'https://upload.wikimedia.org/wikipedia/commons/f/f8/Python_logo_and_wordmark.svg',\n",
       " 'https://upload.wikimedia.org/wikipedia/commons/8/8b/Small_Skew_Star_SVG.svg',\n",
       " 'https://upload.wikimedia.org/wikipedia/commons/8/89/Symbol_book_class2.svg',\n",
       " 'https://upload.wikimedia.org/wikipedia/commons/d/db/Symbol_list_class.svg',\n",
       " 'https://upload.wikimedia.org/wikipedia/commons/8/89/Symbol_neutral_vote.svg',\n",
       " 'https://upload.wikimedia.org/wikipedia/commons/e/e0/Symbol_question.svg',\n",
       " 'https://upload.wikimedia.org/wikipedia/commons/f/fa/Wikibooks-logo.svg',\n",
       " 'https://upload.wikimedia.org/wikipedia/commons/2/24/Wikinews-logo.svg',\n",
       " 'https://upload.wikimedia.org/wikipedia/commons/c/c9/Wikipedia_interwiki_section_gear_icon.svg',\n",
       " 'https://upload.wikimedia.org/wikipedia/commons/4/4c/Wikisource-logo.svg',\n",
       " 'https://upload.wikimedia.org/wikipedia/ru/8/89/Python-icon.png',\n",
       " 'https://upload.wikimedia.org/wikipedia/ru/2/25/PythonProgLogo.png']"
      ]
     },
     "execution_count": 8,
     "metadata": {},
     "output_type": "execute_result"
    }
   ],
   "source": [
    "python.images"
   ]
  },
  {
   "cell_type": "code",
   "execution_count": 9,
   "metadata": {},
   "outputs": [
    {
     "data": {
      "text/plain": [
       "['http://aspn.activestate.com/ASPN/Cookbook/Python/Recipe/426123',\n",
       " 'http://www.artima.com/intv/python2.html',\n",
       " 'http://www.artima.com/intv/pythonP.html',\n",
       " 'http://www.artima.com/weblogs/viewpost.jsp?thread=211200',\n",
       " 'http://www.astrobetter.com/wiki/tiki-index.php?page=idl_vs_python',\n",
       " 'http://qinsb.blogspot.com/2011/03/unladen-swallow-retrospective.html',\n",
       " 'http://www.codeplex.com/Wiki/View.aspx?ProjectName=IronPython',\n",
       " 'http://corepython.com/',\n",
       " 'http://www.damonkohler.com/2008/12/python-on-android.html',\n",
       " 'http://www.drdobbs.com/building-hybrid-systems-with-boostpython/184401666',\n",
       " 'http://egenix.com/',\n",
       " 'http://code.google.com/p/overloading-lib/',\n",
       " 'http://code.google.com/p/python-safethread/',\n",
       " 'http://code.google.com/p/unladen-swallow/wiki/ProjectPlan',\n",
       " 'http://sites.google.com/site/pythonforscientists/python-vs-matlab',\n",
       " 'http://inventwithpython.com/chapters/',\n",
       " 'http://insidetech.monster.com/training/articles/8114-15-ways-python-is-a-powerful-force-on-the-web',\n",
       " 'http://wiki.opensource.nokia.com/projects/PyS60',\n",
       " 'http://oakwinter.com/code/typecheck/',\n",
       " 'http://chimera.labs.oreilly.com/books/1230000000393/pr01.html',\n",
       " 'http://www.parallelpython.com/',\n",
       " 'http://qpython.com/',\n",
       " 'http://stackoverflow.com/questions/68630/are-tuples-more-efficient-than-lists-in-python',\n",
       " 'http://peak.telecommunity.com/DevCenter/FrontPage',\n",
       " 'http://peak.telecommunity.com/DevCenter/RulesReadme',\n",
       " 'http://www.stsci.edu/resources/software_hardware/numarray',\n",
       " 'http://www.brython.info/',\n",
       " 'http://younglinux.info/python.php',\n",
       " 'http://codespeak.net/pypy/dist/pypy/doc/carbonpython.html',\n",
       " 'http://codespeak.net/pypy/dist/pypy/doc/coding-guide.html',\n",
       " 'http://www.diveintopython3.net/',\n",
       " 'http://www.diveintopython3.net',\n",
       " 'http://cxx.sourceforge.net/',\n",
       " 'http://pychecker.sourceforge.net/',\n",
       " 'http://pyfortran.sourceforge.net/',\n",
       " 'http://pyinline.sourceforge.net/',\n",
       " 'http://pympi.sourceforge.net/',\n",
       " 'http://pyopengl.sourceforge.net/',\n",
       " 'http://pythonnet.sourceforge.net/',\n",
       " 'http://www.cosc.canterbury.ac.nz/greg.ewing/python/Pyrex/',\n",
       " 'http://www.altlinux.org/Books:PythonSchool',\n",
       " 'http://www.boost.org/libs/python/doc/',\n",
       " 'http://www.boost.org/libs/python/pyste/index.html',\n",
       " 'http://www.bpython-interpreter.org/',\n",
       " 'http://www.cython.org/',\n",
       " 'http://shootout.alioth.debian.org/',\n",
       " 'http://shootout.alioth.debian.org/u32/benchmark.php?test=all&lang=python&lang2=gpp&box=1',\n",
       " 'http://effbot.org/zone/call-by-object.htm',\n",
       " 'http://www.jython.org/',\n",
       " 'http://www.logilab.org/view?rql=Any%20X%20WHERE%20X%20eid%20857',\n",
       " 'http://micropython.org/',\n",
       " 'http://www.ogre3d.org/wiki/index.php/PyOgre',\n",
       " 'http://www.opencascade.org/',\n",
       " 'http://perldoc.perl.org/perlthrtut.html',\n",
       " 'http://docs.pylint.org/intro.html',\n",
       " 'http://python.org/download/releases/3.0/',\n",
       " 'http://docs.python.org/dev/whatsnew/3.2.html#multi-threading',\n",
       " 'http://docs.python.org/faq/general#why-is-it-called-python',\n",
       " 'http://docs.python.org/library/stdtypes.html',\n",
       " 'http://docs.python.org/reference/lexical_analysis.html#reserved-classes-of-identifiers',\n",
       " 'http://docs.python.org/whatsnew/2.6.html#port-specific-changes-windows',\n",
       " 'http://mail.python.org/pipermail/python-dev/2009-October/093321.html',\n",
       " 'http://pypi.python.org/pypi/processing',\n",
       " 'http://svn.python.org/view/*checkout*/python/trunk/Misc/HISTORY',\n",
       " 'http://wiki.python.org/moin/RussianLanguage',\n",
       " 'http://www.python.org/',\n",
       " 'http://www.python.org/2.5/license.html',\n",
       " 'http://www.python.org/about/',\n",
       " 'http://www.python.org/about/success/usa',\n",
       " 'http://www.python.org/dev/peps/',\n",
       " 'http://www.python.org/dev/peps/pep-0318/',\n",
       " 'http://www.python.org/dev/peps/pep-0333/',\n",
       " 'http://www.python.org/dev/peps/pep-3107/',\n",
       " 'http://www.python.org/dev/peps/pep-3124/',\n",
       " 'http://www.python.org/dev/peps/pep-3146/',\n",
       " 'http://www.python.org/doc/essays/foreword/',\n",
       " 'http://www.python.org/peps/pep-0020.html',\n",
       " 'http://www.pythonocc.org/',\n",
       " 'http://ipython.scipy.org/',\n",
       " 'http://www.scipy.org/Weave',\n",
       " 'http://softwaremaniacs.org/blog/2005/12/08/django/',\n",
       " 'http://www.tinypy.org/',\n",
       " 'http://www.wxpython.org/',\n",
       " 'http://blog.jetfix.ru/post/zamykaniya-v-python-chto-eto-i-s-chem-ih-edyat',\n",
       " 'http://pyhrol.ru/',\n",
       " 'http://dfedorov.spb.ru/python3/book.pdf',\n",
       " 'http://www.symbol.ru/date/634254.html',\n",
       " 'http://www.symbol.ru/date/661501.html',\n",
       " 'http://www.symbol.ru/date/784182.html',\n",
       " 'http://www.symbol.ru/date/816603.html',\n",
       " 'http://www.symbol.ru/date/841171.html',\n",
       " 'http://www.xakep.ru/magazine/xa/117/088/1.asp',\n",
       " 'http://www.riverbankcomputing.co.uk/sip/',\n",
       " 'https://code.facebook.com/posts/1040181199381023/python-in-production-engineering/',\n",
       " 'https://github.com/google/googletest/blob/b88511ef640c046ec9c7553b383a2aba64c80967/googlemock/scripts/generator/README',\n",
       " 'https://opensource.googleblog.com/2017/01/grumpy-go-running-python.html',\n",
       " 'https://habr.com/post/417047/',\n",
       " 'https://habr.com/post/421659/',\n",
       " 'https://engineering.instagram.com/what-powers-instagram-hundreds-of-instances-dozens-of-technologies-adf2e22da2ad',\n",
       " 'https://docs.microsoft.com/ru-ru/power-bi/desktop-python-scripts',\n",
       " 'https://www.youtube.com/watch?v=4XzGHzLgyng',\n",
       " 'https://www.youtube.com/watch?v=FsAPt_9Bf3U',\n",
       " 'https://web.archive.org/web/20070203081217/http://www.boost.org/libs/python/pyste/index.html',\n",
       " 'https://web.archive.org/web/20070204104248/http://oakwinter.com/code/typecheck/',\n",
       " 'https://web.archive.org/web/20070206205611/http://www.ogre3d.org/wiki/index.php/PyOgre',\n",
       " 'https://web.archive.org/web/20070208081606/http://www.riverbankcomputing.co.uk/sip/',\n",
       " 'https://web.archive.org/web/20070301021602/http://www.scipy.org/Weave',\n",
       " 'https://web.archive.org/web/20070707005837/http://codespeak.net/pypy/dist/pypy/doc/coding-guide.html#restricted-python',\n",
       " 'https://web.archive.org/web/20070912131432/http://codespeak.net/pypy/dist/pypy/doc/carbonpython.html',\n",
       " 'https://web.archive.org/web/20090806081738/http://wiki.opensource.nokia.com/projects/PyS60',\n",
       " 'https://web.archive.org/web/20120831065317/http://shootout.alioth.debian.org/',\n",
       " 'https://web.archive.org/web/20130810230937/http://zephyrfalcon.org/labs/python_pitfalls.html',\n",
       " 'https://web.archive.org/web/20140815085458/https://docs.python.org/3.0/whatsnew/3.0.html',\n",
       " 'https://docs.python.org/2/faq/general.html#why-is-it-called-python',\n",
       " 'https://docs.python.org/2/library/pprint.html',\n",
       " 'https://docs.python.org/3.0/whatsnew/3.0.html',\n",
       " 'https://docs.python.org/3.6/tutorial/index.html',\n",
       " 'https://docs.python.org/3/library/py_compile.html',\n",
       " 'https://docs.python.org/3/library/re.html',\n",
       " 'https://docs.python.org/3/license.html',\n",
       " 'https://docs.python.org/3/reference/compound_stmts.html',\n",
       " 'https://mail.python.org/pipermail/python-committers/2018-July/005664.html',\n",
       " 'https://www.python.org/',\n",
       " 'https://www.python.org/downloads/',\n",
       " 'https://www.python.org/downloads/release/python-2716/',\n",
       " 'https://www.python.org/downloads/release/python-373/',\n",
       " 'https://www.webcitation.org/5w4n0S15k?url=http://www.damonkohler.com/2008/12/python-on-android.html',\n",
       " 'https://www.webcitation.org/5w4n1Glim?url=http://docs.python.org/whatsnew/2.6.html#port-specific-changes-windows',\n",
       " 'https://www.webcitation.org/5w4n2As6O?url=http://docs.python.org/reference/lexical_analysis.html#reserved-classes-of-identifiers',\n",
       " 'https://www.webcitation.org/5w4n30Deb?url=http://shootout.alioth.debian.org/u32/benchmark.php?test=all',\n",
       " 'https://www.webcitation.org/5w4n3soB7?url=http://code.google.com/p/unladen-swallow/wiki/ProjectPlan',\n",
       " 'https://commons.wikimedia.org/wiki/Category:Python_(programming_language)?uselang=ru',\n",
       " 'https://iz.ru/788412/2018-09-12/iazyk-programmirovaniia-python-izmenitsia-radi-politkorrektnosti']"
      ]
     },
     "execution_count": 9,
     "metadata": {},
     "output_type": "execute_result"
    }
   ],
   "source": [
    "python.references"
   ]
  },
  {
   "cell_type": "code",
   "execution_count": null,
   "metadata": {},
   "outputs": [],
   "source": []
  }
 ],
 "metadata": {
  "kernelspec": {
   "display_name": "Python 3",
   "language": "python",
   "name": "python3"
  },
  "language_info": {
   "codemirror_mode": {
    "name": "ipython",
    "version": 3
   },
   "file_extension": ".py",
   "mimetype": "text/x-python",
   "name": "python",
   "nbconvert_exporter": "python",
   "pygments_lexer": "ipython3",
   "version": "3.7.1"
  }
 },
 "nbformat": 4,
 "nbformat_minor": 2
}
